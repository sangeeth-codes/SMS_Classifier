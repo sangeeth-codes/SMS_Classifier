{
 "cells": [
  {
   "cell_type": "markdown",
   "id": "e8554010",
   "metadata": {},
   "source": [
    "#  SMS Spam Classifier (No API Required)\n",
    "\n",
    "A quick end-to-end machine learning project you can run locally.\n",
    "- Dataset: **UCI SMS Spam Collection**\n",
    "- Model: **TF-IDF + Logistic Regression**\n",
    "- Metrics: Accuracy, classification report, confusion matrix\n",
    "- Artifacts: Saved pipeline (`sms_spam_model.joblib`)\n",
    "\n"
   ]
  },
  {
   "cell_type": "code",
   "execution_count": 1,
   "id": "6ad55297",
   "metadata": {},
   "outputs": [
    {
     "name": "stdout",
     "output_type": "stream",
     "text": [
      "Python: 3.11.13\n",
      "pandas: 2.3.3\n",
      "numpy: 2.3.3\n",
      "scikit-learn: 1.7.2\n",
      "matplotlib: 3.10.6\n"
     ]
    }
   ],
   "source": [
    "import sys, sklearn, pandas as pd, numpy as np, matplotlib\n",
    "print(\"Python:\", sys.version.split()[0])\n",
    "print(\"pandas:\", pd.__version__)\n",
    "print(\"numpy:\", np.__version__)\n",
    "print(\"scikit-learn:\", sklearn.__version__)\n",
    "print(\"matplotlib:\", matplotlib.__version__)"
   ]
  },
  {
   "cell_type": "markdown",
   "id": "00f74554",
   "metadata": {},
   "source": [
    "## 1) Load Dataset"
   ]
  },
  {
   "cell_type": "code",
   "execution_count": 2,
   "id": "bfc4524f",
   "metadata": {},
   "outputs": [
    {
     "name": "stdout",
     "output_type": "stream",
     "text": [
      "Loading from local file: /Users/bandaanusha/Documents/AI-Projects/SMSSpamCollection\n",
      "(5572, 2)\n"
     ]
    },
    {
     "data": {
      "text/html": [
       "<div>\n",
       "<style scoped>\n",
       "    .dataframe tbody tr th:only-of-type {\n",
       "        vertical-align: middle;\n",
       "    }\n",
       "\n",
       "    .dataframe tbody tr th {\n",
       "        vertical-align: top;\n",
       "    }\n",
       "\n",
       "    .dataframe thead th {\n",
       "        text-align: right;\n",
       "    }\n",
       "</style>\n",
       "<table border=\"1\" class=\"dataframe\">\n",
       "  <thead>\n",
       "    <tr style=\"text-align: right;\">\n",
       "      <th></th>\n",
       "      <th>label</th>\n",
       "      <th>text</th>\n",
       "    </tr>\n",
       "  </thead>\n",
       "  <tbody>\n",
       "    <tr>\n",
       "      <th>0</th>\n",
       "      <td>ham</td>\n",
       "      <td>Go until jurong point, crazy.. Available only ...</td>\n",
       "    </tr>\n",
       "    <tr>\n",
       "      <th>1</th>\n",
       "      <td>ham</td>\n",
       "      <td>Ok lar... Joking wif u oni...</td>\n",
       "    </tr>\n",
       "    <tr>\n",
       "      <th>2</th>\n",
       "      <td>spam</td>\n",
       "      <td>Free entry in 2 a wkly comp to win FA Cup fina...</td>\n",
       "    </tr>\n",
       "    <tr>\n",
       "      <th>3</th>\n",
       "      <td>ham</td>\n",
       "      <td>U dun say so early hor... U c already then say...</td>\n",
       "    </tr>\n",
       "    <tr>\n",
       "      <th>4</th>\n",
       "      <td>ham</td>\n",
       "      <td>Nah I don't think he goes to usf, he lives aro...</td>\n",
       "    </tr>\n",
       "  </tbody>\n",
       "</table>\n",
       "</div>"
      ],
      "text/plain": [
       "  label                                               text\n",
       "0   ham  Go until jurong point, crazy.. Available only ...\n",
       "1   ham                      Ok lar... Joking wif u oni...\n",
       "2  spam  Free entry in 2 a wkly comp to win FA Cup fina...\n",
       "3   ham  U dun say so early hor... U c already then say...\n",
       "4   ham  Nah I don't think he goes to usf, he lives aro..."
      ]
     },
     "execution_count": 2,
     "metadata": {},
     "output_type": "execute_result"
    }
   ],
   "source": [
    "import os, pandas as pd, urllib.request, zipfile, io\n",
    "\n",
    "# Preferred local path (adjust if needed)\n",
    "local_path = os.path.expanduser(\"~/Documents/AI-Projects/SMSSpamCollection\")\n",
    "\n",
    "def load_sms_dataframe():\n",
    "    if os.path.exists(local_path):\n",
    "        print(\"Loading from local file:\", local_path)\n",
    "        return pd.read_csv(local_path, sep=\"\\t\", header=None, names=[\"label\", \"text\"])\n",
    "    else:\n",
    "        print(\"Local file not found. Downloading from UCI repository...\")\n",
    "        url = \"https://archive.ics.uci.edu/ml/machine-learning-databases/00228/smsspamcollection.zip\"\n",
    "        with urllib.request.urlopen(url, timeout=30) as resp:\n",
    "            zdata = resp.read()\n",
    "        zf = zipfile.ZipFile(io.BytesIO(zdata))\n",
    "        with zf.open(\"SMSSpamCollection\") as f:\n",
    "            return pd.read_csv(f, sep=\"\\\\t\", header=None, names=[\"label\", \"text\"])\n",
    "\n",
    "df = load_sms_dataframe()\n",
    "print(df.shape)\n",
    "df.head()"
   ]
  },
  {
   "cell_type": "markdown",
   "id": "e7ddec4f",
   "metadata": {},
   "source": [
    "## 2) Train / Test Split"
   ]
  },
  {
   "cell_type": "code",
   "execution_count": 3,
   "id": "40558baf",
   "metadata": {},
   "outputs": [
    {
     "data": {
      "text/plain": [
       "(4457,\n",
       " 1115,\n",
       " label\n",
       " ham     3859\n",
       " spam     598\n",
       " Name: count, dtype: int64)"
      ]
     },
     "execution_count": 3,
     "metadata": {},
     "output_type": "execute_result"
    }
   ],
   "source": [
    "from sklearn.model_selection import train_test_split\n",
    "\n",
    "X_train, X_test, y_train, y_test = train_test_split(\n",
    "    df[\"text\"], df[\"label\"], test_size=0.2, random_state=42, stratify=df[\"label\"]\n",
    ")\n",
    "len(X_train), len(X_test), y_train.value_counts()[:5]"
   ]
  },
  {
   "cell_type": "markdown",
   "id": "ea7167ec",
   "metadata": {},
   "source": [
    "## 3) Build Pipeline (TF-IDF → Logistic Regression) & Train"
   ]
  },
  {
   "cell_type": "code",
   "execution_count": 4,
   "id": "d054a442",
   "metadata": {},
   "outputs": [
    {
     "data": {
      "text/plain": [
       "'Model trained!'"
      ]
     },
     "execution_count": 4,
     "metadata": {},
     "output_type": "execute_result"
    }
   ],
   "source": [
    "from sklearn.feature_extraction.text import TfidfVectorizer\n",
    "from sklearn.linear_model import LogisticRegression\n",
    "from sklearn.pipeline import Pipeline\n",
    "\n",
    "pipe = Pipeline([\n",
    "    (\"tfidf\", TfidfVectorizer(stop_words=\"english\", ngram_range=(1,2), min_df=2)),\n",
    "    (\"clf\", LogisticRegression(max_iter=200))\n",
    "])\n",
    "\n",
    "pipe.fit(X_train, y_train)\n",
    "\"Model trained!\"\n"
   ]
  },
  {
   "cell_type": "markdown",
   "id": "8ac3e4f4",
   "metadata": {},
   "source": [
    "## 4) Evaluation"
   ]
  },
  {
   "cell_type": "code",
   "execution_count": 5,
   "id": "0a8f7503",
   "metadata": {},
   "outputs": [
    {
     "name": "stdout",
     "output_type": "stream",
     "text": [
      "Accuracy: 0.9704\n",
      "              precision    recall  f1-score   support\n",
      "\n",
      "         ham       0.97      1.00      0.98       966\n",
      "        spam       1.00      0.78      0.88       149\n",
      "\n",
      "    accuracy                           0.97      1115\n",
      "   macro avg       0.98      0.89      0.93      1115\n",
      "weighted avg       0.97      0.97      0.97      1115\n",
      "\n"
     ]
    },
    {
     "data": {
      "text/plain": [
       "array([[966,   0],\n",
       "       [ 33, 116]])"
      ]
     },
     "execution_count": 5,
     "metadata": {},
     "output_type": "execute_result"
    }
   ],
   "source": [
    "from sklearn.metrics import accuracy_score, classification_report, confusion_matrix\n",
    "\n",
    "preds = pipe.predict(X_test)\n",
    "acc = accuracy_score(y_test, preds)\n",
    "print(\"Accuracy:\", round(acc, 4))\n",
    "print(classification_report(y_test, preds))\n",
    "\n",
    "cm = confusion_matrix(y_test, preds, labels=[\"ham\", \"spam\"])\n",
    "cm\n"
   ]
  },
  {
   "cell_type": "code",
   "execution_count": 6,
   "id": "d84d1519",
   "metadata": {},
   "outputs": [
    {
     "data": {
      "image/png": "[encoded data removed]",
      "text/plain": [
       "<Figure size 640x480 with 1 Axes>"
      ]
     },
     "metadata": {},
     "output_type": "display_data"
    }
   ],
   "source": [
    "import matplotlib.pyplot as plt\n",
    "\n",
    "fig = plt.figure()\n",
    "plt.imshow(cm, interpolation=\"nearest\")\n",
    "plt.title(\"Confusion Matrix\")\n",
    "plt.xticks([0,1], [\"ham\",\"spam\"])\n",
    "plt.yticks([0,1], [\"ham\",\"spam\"])\n",
    "for i in range(2):\n",
    "    for j in range(2):\n",
    "        plt.text(j, i, cm[i, j], ha=\"center\", va=\"center\")\n",
    "plt.xlabel(\"Predicted\"); plt.ylabel(\"True\")\n",
    "plt.show()\n"
   ]
  },
  {
   "cell_type": "markdown",
   "id": "b08c1c05",
   "metadata": {},
   "source": [
    "## 5) Try Your Own Messages"
   ]
  },
  {
   "cell_type": "code",
   "execution_count": 7,
   "id": "4803c768",
   "metadata": {},
   "outputs": [
    {
     "data": {
      "text/plain": [
       "[('CONGRATULATIONS! You’ve won a free vacation. Call now to claim.', 'spam'),\n",
       " ('Hey, are we still meeting at 5?', 'ham'),\n",
       " ('URGENT! Your account will be closed unless you update your info.', 'ham')]"
      ]
     },
     "execution_count": 7,
     "metadata": {},
     "output_type": "execute_result"
    }
   ],
   "source": [
    "def predict_sms(messages):\n",
    "    return list(zip(messages, pipe.predict(messages)))\n",
    "\n",
    "samples = [\n",
    "    \"CONGRATULATIONS! You’ve won a free vacation. Call now to claim.\",\n",
    "    \"Hey, are we still meeting at 5?\",\n",
    "    \"URGENT! Your account will be closed unless you update your info.\"\n",
    "]\n",
    "predict_sms(samples)\n"
   ]
  },
  {
   "cell_type": "markdown",
   "id": "2940c925",
   "metadata": {},
   "source": [
    "## 6) Save Model & Reload Later"
   ]
  },
  {
   "cell_type": "code",
   "execution_count": 8,
   "id": "2d8bd7cd",
   "metadata": {},
   "outputs": [
    {
     "name": "stdout",
     "output_type": "stream",
     "text": [
      "Saved model to: /Users/bandaanusha/Documents/AI-Projects/sms_spam_model.joblib\n"
     ]
    },
    {
     "data": {
      "text/plain": [
       "array(['ham'], dtype=object)"
      ]
     },
     "execution_count": 8,
     "metadata": {},
     "output_type": "execute_result"
    }
   ],
   "source": [
    "import joblib, os\n",
    "\n",
    "artifact_path = os.path.abspath(\"sms_spam_model.joblib\")\n",
    "joblib.dump(pipe, artifact_path)\n",
    "print(\"Saved model to:\", artifact_path)\n",
    "\n",
    "loaded = joblib.load(artifact_path)\n",
    "loaded.predict([\"Win a brand new iPhone by clicking this link!\"])\n"
   ]
  },
  {
   "cell_type": "markdown",
   "id": "4b497acc",
   "metadata": {},
   "source": [
    "## 7) Summary\n",
    "\n",
    "**Caption:**  \n",
    "> 🚀 Built a fully local **SMS Spam Classifier** in Python—no APIs needed.  \n",
    "> Stack: scikit-learn (TF-IDF + Logistic Regression).  \n",
    "> ✅ Clean 80/20 split, TF-IDF features with bi-grams  \n",
    "> ✅ Accuracy + classification report + confusion matrix  \n",
    "> ✅ Saved the pipeline with `joblib` + quick predict function  \n",
    "> Next up: hyperparameter search + model comparison (LinearSVC, SGD).\n"
   ]
  }
 ],
 "metadata": {
  "kernelspec": {
   "display_name": "Python (ai)",
   "language": "python",
   "name": "ai"
  },
  "language_info": {
   "codemirror_mode": {
    "name": "ipython",
    "version": 3
   },
   "file_extension": ".py",
   "mimetype": "text/x-python",
   "name": "python",
   "nbconvert_exporter": "python",
   "pygments_lexer": "ipython3",
   "version": "3.11.13"
  }
 },
 "nbformat": 4,
 "nbformat_minor": 5
}
